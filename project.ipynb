{
 "cells": [
  {
   "cell_type": "code",
   "execution_count": 2,
   "metadata": {
    "id": "en5N_nCr8WV5"
   },
   "outputs": [],
   "source": [
    "from keras.layers import Input,Lambda, Dense, Flatten"
   ]
  },
  {
   "cell_type": "code",
   "execution_count": 3,
   "metadata": {
    "id": "Rp74pyz98WWF"
   },
   "outputs": [],
   "source": [
    "from keras.models import Model\n",
    "from keras.applications.vgg16 import VGG16\n",
    "from keras.applications.vgg16 import preprocess_input\n",
    "from keras.preprocessing import image\n",
    "from keras.preprocessing.image import ImageDataGenerator\n",
    "from keras.models import Sequential\n",
    "import numpy as np\n",
    "from glob import glob\n",
    "import matplotlib.pyplot as plt"
   ]
  },
  {
   "cell_type": "code",
   "execution_count": 7,
   "metadata": {
    "colab": {
     "base_uri": "https://localhost:8080/"
    },
    "id": "w4z0T7OJO8gi",
    "outputId": "1fbca160-2478-49af-b4fb-386840eb6232"
   },
   "outputs": [
    {
     "name": "stdout",
     "output_type": "stream",
     "text": [
      "Found 2276 images belonging to 6 classes.\n",
      "Found 251 images belonging to 6 classes.\n"
     ]
    }
   ],
   "source": [
    "#paths to the train, validation and test image datasets \n",
    "train_path = '/content/drive/MyDrive/dataset/Garbage-classification/'\n",
    "valid_path = '/content/drive/MyDrive/dataset/Garbage-classification/'\n",
    "\n",
    "# extract images to training set by applying data preprocessing and data augmentation\n",
    "train_datagen = ImageDataGenerator(\n",
    "    shear_range=0.2,\n",
    "    zoom_range=0.2,\n",
    "    width_shift_range=0.2,\n",
    "    height_shift_range=0.2,\n",
    "    validation_split=0.1)\n",
    "\n",
    "train_set = train_datagen.flow_from_directory(\n",
    "    directory=train_path, target_size=(224,224), classes=['cardboard', 'glass', 'metal', \n",
    "                                                         'paper', 'plastic', 'trash'], batch_size=16, subset='training')\n",
    "\n",
    "\n",
    "# extract images to validation set\n",
    "valid_datagen = ImageDataGenerator(validation_split=0.1)\n",
    "\n",
    "valid_set = valid_datagen.flow_from_directory(\n",
    "    directory=valid_path, target_size=(224,224), classes=['cardboard', 'glass', 'metal', \n",
    "                                                         'paper', 'plastic', 'trash'], batch_size=16, subset='validation')"
   ]
  },
  {
   "cell_type": "code",
   "execution_count": 3,
   "metadata": {
    "colab": {
     "base_uri": "https://localhost:8080/"
    },
    "id": "m0WLFFBjPSHT",
    "outputId": "ff388344-7151-4c92-d972-d42ce264f35d"
   },
   "outputs": [
    {
     "name": "stdout",
     "output_type": "stream",
     "text": [
      "Mounted at /content/drive\n"
     ]
    }
   ],
   "source": [
    "from google.colab import drive\n",
    "drive.mount('/content/drive')"
   ]
  },
  {
   "cell_type": "code",
   "execution_count": 8,
   "metadata": {
    "id": "FZHdZLki8WWJ"
   },
   "outputs": [],
   "source": [
    "IMAGE_SIZE = [224,224]"
   ]
  },
  {
   "cell_type": "code",
   "execution_count": 9,
   "metadata": {
    "colab": {
     "base_uri": "https://localhost:8080/"
    },
    "id": "4MI54qYj8WWL",
    "outputId": "88d5ecfe-73e5-4464-dc86-ea72754e8118"
   },
   "outputs": [
    {
     "name": "stdout",
     "output_type": "stream",
     "text": [
      "Downloading data from https://storage.googleapis.com/tensorflow/keras-applications/vgg16/vgg16_weights_tf_dim_ordering_tf_kernels_notop.h5\n",
      "58892288/58889256 [==============================] - 0s 0us/step\n",
      "58900480/58889256 [==============================] - 0s 0us/step\n"
     ]
    }
   ],
   "source": [
    "vgg = VGG16(input_shape = IMAGE_SIZE + [3],weights = 'imagenet',include_top=False)"
   ]
  },
  {
   "cell_type": "code",
   "execution_count": 10,
   "metadata": {
    "id": "pThv3avu8WWP"
   },
   "outputs": [],
   "source": [
    "for layer in vgg.layers:\n",
    "    layer.trainable = False"
   ]
  },
  {
   "cell_type": "code",
   "execution_count": 11,
   "metadata": {
    "id": "Famev0d08WWT"
   },
   "outputs": [],
   "source": [
    "folders = glob('/content/drive/MyDrive/dataset/Garbage-classification/*')"
   ]
  },
  {
   "cell_type": "code",
   "execution_count": 12,
   "metadata": {
    "id": "URDFjNw48WWV"
   },
   "outputs": [],
   "source": [
    "x = Flatten()(vgg.output)"
   ]
  },
  {
   "cell_type": "code",
   "execution_count": 14,
   "metadata": {
    "id": "M0t9dmI18WWW"
   },
   "outputs": [],
   "source": [
    "prediction = Dense(len(folders),activation='softmax')(x)"
   ]
  },
  {
   "cell_type": "code",
   "execution_count": 15,
   "metadata": {
    "id": "JR7jy8GF8WWX"
   },
   "outputs": [],
   "source": [
    "model = Model(inputs = vgg.input,outputs=prediction)"
   ]
  },
  {
   "cell_type": "code",
   "execution_count": 16,
   "metadata": {
    "colab": {
     "base_uri": "https://localhost:8080/"
    },
    "id": "CPEpCw0h8WWZ",
    "outputId": "5aa8397d-b429-4362-aa0d-4d3c32378aeb"
   },
   "outputs": [
    {
     "name": "stdout",
     "output_type": "stream",
     "text": [
      "Model: \"model\"\n",
      "_________________________________________________________________\n",
      "Layer (type)                 Output Shape              Param #   \n",
      "=================================================================\n",
      "input_1 (InputLayer)         [(None, 224, 224, 3)]     0         \n",
      "_________________________________________________________________\n",
      "block1_conv1 (Conv2D)        (None, 224, 224, 64)      1792      \n",
      "_________________________________________________________________\n",
      "block1_conv2 (Conv2D)        (None, 224, 224, 64)      36928     \n",
      "_________________________________________________________________\n",
      "block1_pool (MaxPooling2D)   (None, 112, 112, 64)      0         \n",
      "_________________________________________________________________\n",
      "block2_conv1 (Conv2D)        (None, 112, 112, 128)     73856     \n",
      "_________________________________________________________________\n",
      "block2_conv2 (Conv2D)        (None, 112, 112, 128)     147584    \n",
      "_________________________________________________________________\n",
      "block2_pool (MaxPooling2D)   (None, 56, 56, 128)       0         \n",
      "_________________________________________________________________\n",
      "block3_conv1 (Conv2D)        (None, 56, 56, 256)       295168    \n",
      "_________________________________________________________________\n",
      "block3_conv2 (Conv2D)        (None, 56, 56, 256)       590080    \n",
      "_________________________________________________________________\n",
      "block3_conv3 (Conv2D)        (None, 56, 56, 256)       590080    \n",
      "_________________________________________________________________\n",
      "block3_pool (MaxPooling2D)   (None, 28, 28, 256)       0         \n",
      "_________________________________________________________________\n",
      "block4_conv1 (Conv2D)        (None, 28, 28, 512)       1180160   \n",
      "_________________________________________________________________\n",
      "block4_conv2 (Conv2D)        (None, 28, 28, 512)       2359808   \n",
      "_________________________________________________________________\n",
      "block4_conv3 (Conv2D)        (None, 28, 28, 512)       2359808   \n",
      "_________________________________________________________________\n",
      "block4_pool (MaxPooling2D)   (None, 14, 14, 512)       0         \n",
      "_________________________________________________________________\n",
      "block5_conv1 (Conv2D)        (None, 14, 14, 512)       2359808   \n",
      "_________________________________________________________________\n",
      "block5_conv2 (Conv2D)        (None, 14, 14, 512)       2359808   \n",
      "_________________________________________________________________\n",
      "block5_conv3 (Conv2D)        (None, 14, 14, 512)       2359808   \n",
      "_________________________________________________________________\n",
      "block5_pool (MaxPooling2D)   (None, 7, 7, 512)         0         \n",
      "_________________________________________________________________\n",
      "flatten (Flatten)            (None, 25088)             0         \n",
      "_________________________________________________________________\n",
      "dense_1 (Dense)              (None, 6)                 150534    \n",
      "=================================================================\n",
      "Total params: 14,865,222\n",
      "Trainable params: 150,534\n",
      "Non-trainable params: 14,714,688\n",
      "_________________________________________________________________\n"
     ]
    }
   ],
   "source": [
    "model.summary()"
   ]
  },
  {
   "cell_type": "code",
   "execution_count": 17,
   "metadata": {
    "id": "cIyBhq278WWb"
   },
   "outputs": [],
   "source": [
    "model.compile(loss = 'categorical_crossentropy',\n",
    "              optimizer = 'adam',\n",
    "             metrics = ['accuracy'])"
   ]
  },
  {
   "cell_type": "code",
   "execution_count": 18,
   "metadata": {
    "colab": {
     "base_uri": "https://localhost:8080/"
    },
    "id": "spEBxJok8WWe",
    "outputId": "cc9c73d7-6f9a-4370-b18f-0bf677d04c9c"
   },
   "outputs": [
    {
     "name": "stderr",
     "output_type": "stream",
     "text": [
      "/usr/local/lib/python3.7/dist-packages/keras/engine/training.py:1915: UserWarning: `Model.fit_generator` is deprecated and will be removed in a future version. Please use `Model.fit`, which supports generators.\n",
      "  warnings.warn('`Model.fit_generator` is deprecated and '\n"
     ]
    },
    {
     "name": "stdout",
     "output_type": "stream",
     "text": [
      "Epoch 1/5\n",
      "143/143 [==============================] - 768s 5s/step - loss: 12.5992 - accuracy: 0.5219 - val_loss: 11.1900 - val_accuracy: 0.6813\n",
      "Epoch 2/5\n",
      "143/143 [==============================] - 32s 223ms/step - loss: 6.6901 - accuracy: 0.7764 - val_loss: 9.2970 - val_accuracy: 0.7809\n",
      "Epoch 3/5\n",
      "143/143 [==============================] - 32s 223ms/step - loss: 5.6167 - accuracy: 0.8102 - val_loss: 7.1541 - val_accuracy: 0.8287\n",
      "Epoch 4/5\n",
      "143/143 [==============================] - 32s 224ms/step - loss: 5.3524 - accuracy: 0.8276 - val_loss: 7.8789 - val_accuracy: 0.8327\n",
      "Epoch 5/5\n",
      "143/143 [==============================] - 32s 221ms/step - loss: 5.3172 - accuracy: 0.8511 - val_loss: 10.3103 - val_accuracy: 0.7729\n"
     ]
    }
   ],
   "source": [
    "r = model.fit_generator(\n",
    "  train_set,\n",
    "  validation_data=valid_set,\n",
    "  epochs=5,\n",
    "  steps_per_epoch=len(train_set),\n",
    "  validation_steps=len(valid_set)\n",
    ")"
   ]
  },
  {
   "cell_type": "code",
   "execution_count": 19,
   "metadata": {
    "colab": {
     "base_uri": "https://localhost:8080/",
     "height": 533
    },
    "id": "RiScLT2r8WWg",
    "outputId": "d8f098f2-8f5b-4a46-b84e-fe5b3a4970cd"
   },
   "outputs": [
    {
     "data": {
      "image/png": "[encoded data removed]",
      "text/plain": [
       "<Figure size 432x288 with 1 Axes>"
      ]
     },
     "metadata": {
      "needs_background": "light",
      "tags": []
     },
     "output_type": "display_data"
    },
    {
     "data": {
      "image/png": "[encoded data removed]",
      "text/plain": [
       "<Figure size 432x288 with 1 Axes>"
      ]
     },
     "metadata": {
      "needs_background": "light",
      "tags": []
     },
     "output_type": "display_data"
    },
    {
     "data": {
      "text/plain": [
       "<Figure size 432x288 with 0 Axes>"
      ]
     },
     "metadata": {
      "tags": []
     },
     "output_type": "display_data"
    }
   ],
   "source": [
    "# loss\n",
    "plt.plot(r.history['loss'], label='train loss')\n",
    "plt.plot(r.history['val_loss'], label='val loss')\n",
    "plt.legend()\n",
    "plt.show()\n",
    "plt.savefig('LossVal_loss')\n",
    "\n",
    "# accuracies\n",
    "plt.plot(r.history['accuracy'], label='train acc')\n",
    "plt.plot(r.history['val_accuracy'], label='val acc')\n",
    "plt.legend()\n",
    "plt.show()\n",
    "plt.savefig('AccVal_acc')\n"
   ]
  },
  {
   "cell_type": "code",
   "execution_count": 23,
   "metadata": {
    "id": "fpAyYO4x8WWg"
   },
   "outputs": [],
   "source": [
    "import tensorflow as tf\n",
    "from keras.models import load_model\n",
    "model.save('/content/drive/MyDrive/dataset/Garbage-classification/classificationmodel.h5')"
   ]
  },
  {
   "cell_type": "code",
   "execution_count": 4,
   "metadata": {
    "id": "WpejYYgd60I7"
   },
   "outputs": [],
   "source": [
    "#import cv2\n",
    "CATEGORIES = [\"cardboard\",\"glass\",\"metal\",\"paper\",\"plastic\",\"trash\"]"
   ]
  },
  {
   "cell_type": "code",
   "execution_count": 5,
   "metadata": {
    "id": "KLXjfpfF60hH"
   },
   "outputs": [],
   "source": [
    "import tensorflow as tf\n",
    "model = tf.keras.models.load_model(\"usingmodel/classificationmodel.h5\")"
   ]
  },
  {
   "cell_type": "code",
   "execution_count": 6,
   "metadata": {
    "id": "jWpzZuWt60sr"
   },
   "outputs": [],
   "source": [
    "from keras.preprocessing.image import load_img\n",
    "from keras.preprocessing.image import img_to_array\n",
    "from keras.applications.vgg16 import preprocess_input\n",
    "import numpy as np"
   ]
  },
  {
   "cell_type": "code",
   "execution_count": 11,
   "metadata": {
    "colab": {
     "base_uri": "https://localhost:8080/"
    },
    "id": "ZqoFUsiBE6v6",
    "outputId": "580caa5d-f594-4b32-c02e-3cf5229c53d2"
   },
   "outputs": [
    {
     "name": "stdout",
     "output_type": "stream",
     "text": [
      "plastic\n"
     ]
    }
   ],
   "source": [
    "image = load_img('usingmodel/plastic.JPG',target_size = (224,224))\n",
    "#convert the image pixels into numpy array\n",
    "image = img_to_array(image)\n",
    "#reshape data for the model\n",
    "image = image.reshape((1,image.shape[0],image.shape[1],image.shape[2]))\n",
    "image = preprocess_input(image)\n",
    "y = model.predict(image)\n",
    "pred = np.argmax(y[0])\n",
    "print(CATEGORIES[pred])"
   ]
  },
  {
   "cell_type": "code",
   "execution_count": null,
   "metadata": {},
   "outputs": [],
   "source": []
  }
 ],
 "metadata": {
  "accelerator": "GPU",
  "colab": {
   "name": "project.ipynb",
   "provenance": [],
   "toc_visible": true
  },
  "kernelspec": {
   "display_name": "Python 3",
   "language": "python",
   "name": "python3"
  },
  "language_info": {
   "codemirror_mode": {
    "name": "ipython",
    "version": 3
   },
   "file_extension": ".py",
   "mimetype": "text/x-python",
   "name": "python",
   "nbconvert_exporter": "python",
   "pygments_lexer": "ipython3",
   "version": "3.8.5"
  }
 },
 "nbformat": 4,
 "nbformat_minor": 1
}
